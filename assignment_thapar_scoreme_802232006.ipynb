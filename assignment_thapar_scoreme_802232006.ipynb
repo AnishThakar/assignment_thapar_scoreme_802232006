{
  "nbformat": 4,
  "nbformat_minor": 0,
  "metadata": {
    "colab": {
      "provenance": []
    },
    "kernelspec": {
      "name": "python3",
      "display_name": "Python 3"
    },
    "language_info": {
      "name": "python"
    }
  },
  "cells": [
    {
      "cell_type": "markdown",
      "source": [
        "ANISH THAKUR\n",
        "802232006\n",
        "anishthakur1998@gmail.com\n",
        "8219515101\n",
        "ME CSE TIET PATIALA"
      ],
      "metadata": {
        "id": "F1tV6WIX2VaX"
      }
    },
    {
      "cell_type": "code",
      "source": [
        "def longest_path(graph):\n",
        "    from collections import deque\n",
        "\n",
        "    n = len(graph)\n",
        "    in_degree = [0] * n\n",
        "\n",
        "    for u in range(n):\n",
        "        for v, w in graph[u]:\n",
        "            in_degree[v] += 1\n",
        "\n",
        "    zero_in_degree_queue = deque([u for u in range(n) if in_degree[u] == 0])\n",
        "    topo_order = []\n",
        "\n",
        "    while zero_in_degree_queue:\n",
        "        u = zero_in_degree_queue.popleft()\n",
        "        topo_order.append(u)\n",
        "        for v, w in graph[u]:\n",
        "            in_degree[v] -= 1\n",
        "            if in_degree[v] == 0:\n",
        "                zero_in_degree_queue.append(v)\n",
        "    dist = [-float('inf')] * n\n",
        "    dist[topo_order[0]] = 0\n",
        "    for u in topo_order:\n",
        "        if dist[u] != -float('inf'):\n",
        "            for v, w in graph[u]:\n",
        "                if dist[u] + w > dist[v]:\n",
        "                    dist[v] = dist[u] + w\n",
        "\n",
        "    longest_path_length = max(dist)\n",
        "    return longest_path_length if longest_path_length != -float('inf') else 0\n"
      ],
      "metadata": {
        "id": "QWSCmFys2l3S"
      },
      "execution_count": 8,
      "outputs": []
    },
    {
      "cell_type": "code",
      "source": [
        "\n",
        "\n",
        "def test_longest_path():\n",
        "    graph1 = [\n",
        "        [(1, 3), (2, 2)],\n",
        "        [(3, 4)],\n",
        "        [(3, 1)],\n",
        "        []\n",
        "    ]\n",
        "    result1 = longest_path(graph1)\n",
        "    assert result1 == 7, f\"Test case graph1 failed, got {result1}\"\n",
        "\n",
        "    graph2 = [\n",
        "        [(1, 2), (2, 1)],\n",
        "        [(3, 1)],\n",
        "        [(3, 5)],\n",
        "        []\n",
        "    ]\n",
        "    result2 = longest_path(graph2)\n",
        "    assert result2 == 6, f\"Test case graph2 failed, got {result2}\"\n",
        "\n",
        "    graph3 = [\n",
        "        [(1, 10)],\n",
        "        [(2, 10)],\n",
        "        [(3, 10)],\n",
        "        []\n",
        "    ]\n",
        "    result3 = longest_path(graph3)\n",
        "    assert result3 == 30, f\"Test case graph3 failed, got {result3}\"\n",
        "\n",
        "    graph4 = [\n",
        "        [(1, 1), (2, 1)],\n",
        "        [(3, 1)],\n",
        "        [(3, 1)],\n",
        "        []\n",
        "    ]\n",
        "    result4 = longest_path(graph4)\n",
        "    assert result4 == 2, f\"Test case graph4 failed, got {result4}\"\n",
        "#The result for graph is 2 but the test case showing 3 so i correct it.\n",
        "    print(\"All test cases pass\")\n",
        "\n",
        "if __name__ == \"__main__\":\n",
        "    test_longest_path()\n",
        ""
      ],
      "metadata": {
        "colab": {
          "base_uri": "https://localhost:8080/"
        },
        "id": "rCBk637W2rSD",
        "outputId": "ac790412-ab5e-4ff3-9cbf-02bdaadd8cd6"
      },
      "execution_count": 9,
      "outputs": [
        {
          "output_type": "stream",
          "name": "stdout",
          "text": [
            "All test cases pass\n"
          ]
        }
      ]
    }
  ]
}